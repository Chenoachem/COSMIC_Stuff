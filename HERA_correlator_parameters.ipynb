{
 "cells": [
  {
   "cell_type": "code",
   "execution_count": 1,
   "metadata": {
    "collapsed": false
   },
   "outputs": [],
   "source": [
    "import numpy as np\n",
    "from astropy.coordinates import Angle\n",
    "from astropy import units\n",
    "import spec_calcs"
   ]
  },
  {
   "cell_type": "code",
   "execution_count": 2,
   "metadata": {
    "collapsed": false
   },
   "outputs": [],
   "source": [
    "max_decorr = 0.1\n",
    "frequency = (250. * 1e6 * units.Hz)\n",
    "max_baseline_m = (870 * units.m)"
   ]
  },
  {
   "cell_type": "markdown",
   "metadata": {},
   "source": [
    "The actual math has been moved to the spec_calc module so it can be reused in other code"
   ]
  },
  {
   "cell_type": "code",
   "execution_count": 3,
   "metadata": {
    "collapsed": false
   },
   "outputs": [
    {
     "name": "stdout",
     "output_type": "stream",
     "text": [
      "Max resolution:\n",
      "4.73844arcmin\n",
      "Max integration time required to keep the decorrelation due to time integrating under max_decorr on\n",
      "the longest baselines:\n",
      "1.8902011330061352 s\n",
      "Max channel width to keep the decorrelation due to channel width under max_decorr for a 90.0 degree\n",
      "correlator FoV on the longest baselines:\n",
      "34.45890321839081 kHz\n",
      "Max integration time to keep the decorrelation due to time integrating after fringe stopping under\n",
      "max_decorr for a 90.0 degree correlator FoV on the longest baselines:\n",
      "3.6999943247235914 s\n"
     ]
    }
   ],
   "source": [
    "params = spec_calcs.averaging_params(max_decorr=max_decorr, frequency=frequency, baseline=max_baseline_m,\n",
    "                                     corr_FoV=Angle(90., units.degree), verbose=True)"
   ]
  },
  {
   "cell_type": "code",
   "execution_count": 4,
   "metadata": {
    "collapsed": false
   },
   "outputs": [
    {
     "name": "stdout",
     "output_type": "stream",
     "text": [
      "Max resolution:\n",
      "4.73844arcmin\n",
      "Max integration time required to keep the decorrelation due to time integrating under max_decorr on\n",
      "the longest baselines:\n",
      "1.8902011330061352 s\n",
      "Max channel width to keep the decorrelation due to channel width under max_decorr for a 10.0 degree\n",
      "correlator FoV on the longest baselines:\n",
      "198.44091473557216 kHz\n",
      "Max integration time to keep the decorrelation due to time integrating after fringe stopping under\n",
      "max_decorr for a 10.0 degree correlator FoV on the longest baselines:\n",
      "21.307418105017184 s\n"
     ]
    }
   ],
   "source": [
    "params = spec_calcs.averaging_params(max_decorr=max_decorr, frequency=frequency, baseline=max_baseline_m,\n",
    "                                     corr_FoV=Angle(10., units.degree), verbose=True)"
   ]
  },
  {
   "cell_type": "markdown",
   "metadata": {},
   "source": [
    "Now invert these equations to calculate the decorrelation caused by some suggested correlator settings"
   ]
  },
  {
   "cell_type": "code",
   "execution_count": 5,
   "metadata": {
    "collapsed": false
   },
   "outputs": [
    {
     "name": "stdout",
     "output_type": "stream",
     "text": [
      "proposed channel width:  61.03515625 kHz\n",
      "proposed pre fringe stopping integration time:  100.0 ms\n",
      "proposed post fringe stopping integration time:  10.0 s\n"
     ]
    }
   ],
   "source": [
    "# This is the max number of channels that Jack can do 'easily'\n",
    "n_channels = 4096\n",
    "corr_chan_width = (250 * units.MHz) / n_channels\n",
    "# Since we will integrate longer after fringe stopping, there's no need to integrate more here\n",
    "corr_integration_time = .1 * units.s\n",
    "# after fringe stopping, we can sum in time to longer integrations\n",
    "corr_post_fringe_stop_int_time = 10 * units.s\n",
    "print('proposed channel width: ', corr_chan_width.to(units.kHz))\n",
    "print('proposed pre fringe stopping integration time: ', corr_integration_time.to(units.ms))\n",
    "print('proposed post fringe stopping integration time: ', corr_post_fringe_stop_int_time)"
   ]
  },
  {
   "cell_type": "code",
   "execution_count": 6,
   "metadata": {
    "collapsed": false
   },
   "outputs": [
    {
     "name": "stdout",
     "output_type": "stream",
     "text": [
      "Decorrelation fraction due to integration time on the longest baseline\n",
      "0.005290442284359557\n",
      "Longest E-W baseline with less than 10.0% decorrelation due to integration time\n",
      "16444.74466458891 m\n",
      "Decorrelation due to channel width for a 90.0 degree correlator FoV for the longest baseline\n",
      "0.17712448902733904\n",
      "Longest baseline for a 90.0 degree correlator FoV with less than 10.0% decorrelation due to channel\n",
      "width\n",
      "491.17996318720003 m\n",
      "Correlator FoV with less than 10.0% decorrelation due to channel width for the longest baseline\n",
      "34d22m21.9391s\n",
      "Decorrelation due to time integrating after fringe stopping for a 90.0 degree correlator FoV for the\n",
      "longest baseline\n",
      "0.27027068482725447\n",
      "Correlator FoV with less than 10.0% decorrelation just due to time integrating after fringe stopping\n",
      "for the longest baseline\n",
      "21d42m56.0962s\n",
      "\n",
      "Decorrelation factors actually need to be combined!\n",
      "\n",
      "Net decorrelation before fringe stopping due to integration time and channel width for 90.0 degree\n",
      "correlator FoV for the longest baseline\n",
      "0.18147786442535274\n",
      "Correlator FoV before fringe stopping with less than 10.0% decorrelation due to integration time and\n",
      "channel width for the longest baseline\n",
      "32d31m01.2555s\n",
      "Total decorrelation after fringe stopping and integrating for a 90.0 degree correlator FoV\n",
      "0.40270040255337947\n",
      "Correlator FoV after fringe stopping and integrating with less than 10.0% total decorrelation for\n",
      "the longest baseline\n",
      "12d35m08.0119s\n"
     ]
    }
   ],
   "source": [
    "decorrelations = spec_calcs.decorrelations(frequency=frequency, baseline=max_baseline_m,\n",
    "                                           corr_FoV=Angle(90., units.degree),\n",
    "                                           n_channels=n_channels, chan_width=corr_chan_width,\n",
    "                                           integration_time=corr_integration_time,\n",
    "                                           fringe_stop_int_time=corr_post_fringe_stop_int_time,\n",
    "                                           verbose=True)"
   ]
  },
  {
   "cell_type": "code",
   "execution_count": 7,
   "metadata": {
    "collapsed": false
   },
   "outputs": [
    {
     "name": "stdout",
     "output_type": "stream",
     "text": [
      "Decorrelation fraction due to integration time on the longest baseline\n",
      "0.005290442284359557\n",
      "Longest E-W baseline with less than 10.0% decorrelation due to integration time\n",
      "16444.74466458891 m\n",
      "Decorrelation due to channel width for a 10.0 degree correlator FoV for the longest baseline\n",
      "0.030757344739783626\n",
      "Longest baseline for a 10.0 degree correlator FoV with less than 10.0% decorrelation due to channel\n",
      "width\n",
      "2828.5926739140245 m\n",
      "Correlator FoV with less than 10.0% decorrelation due to channel width for the longest baseline\n",
      "34d22m21.9391s\n",
      "Decorrelation due to time integrating after fringe stopping for a 10.0 degree correlator FoV for the\n",
      "longest baseline\n",
      "0.046932011897046017\n",
      "Correlator FoV with less than 10.0% decorrelation just due to time integrating after fringe stopping\n",
      "for the longest baseline\n",
      "21d42m56.0962s\n",
      "\n",
      "Decorrelation factors actually need to be combined!\n",
      "\n",
      "Net decorrelation before fringe stopping due to integration time and channel width for 10.0 degree\n",
      "correlator FoV for the longest baseline\n",
      "0.03588506706697725\n",
      "Correlator FoV before fringe stopping with less than 10.0% decorrelation due to integration time and\n",
      "channel width for the longest baseline\n",
      "32d31m01.2555s\n",
      "Total decorrelation after fringe stopping and integrating for a 10.0 degree correlator FoV\n",
      "0.0811329205695096\n",
      "Correlator FoV after fringe stopping and integrating with less than 10.0% total decorrelation for\n",
      "the longest baseline\n",
      "12d35m08.0119s\n"
     ]
    }
   ],
   "source": [
    "decorrelations = spec_calcs.decorrelations(frequency=frequency, baseline=max_baseline_m,\n",
    "                                           corr_FoV=Angle(10., units.degree),\n",
    "                                           n_channels=n_channels, chan_width=corr_chan_width,\n",
    "                                           integration_time=corr_integration_time,\n",
    "                                           fringe_stop_int_time=corr_post_fringe_stop_int_time,\n",
    "                                           verbose=True)"
   ]
  },
  {
   "cell_type": "markdown",
   "metadata": {
    "collapsed": true
   },
   "source": [
    "Data rate calculations:"
   ]
  },
  {
   "cell_type": "code",
   "execution_count": 8,
   "metadata": {
    "collapsed": false
   },
   "outputs": [],
   "source": [
    "n_antennas = 350\n",
    "channels_to_keep = n_channels * 3/4\n",
    "obs_hrs_per_day=(12 * units.hour / units.day)\n",
    "days_per_season=(120 * units.day)"
   ]
  },
  {
   "cell_type": "code",
   "execution_count": 9,
   "metadata": {
    "collapsed": false
   },
   "outputs": [],
   "source": [
    "rates = spec_calcs.data_rates(integration_time=corr_integration_time,\n",
    "                              fringe_stop_int_time=corr_post_fringe_stop_int_time,\n",
    "                              n_antennas=n_antennas, n_channels=channels_to_keep)"
   ]
  },
  {
   "cell_type": "code",
   "execution_count": 10,
   "metadata": {
    "collapsed": false
   },
   "outputs": [
    {
     "name": "stdout",
     "output_type": "stream",
     "text": [
      "Naive (correlator internal):\n",
      "data rate:  120.76646400000001 Gbyte / s\n",
      "channel width:  61.03515625 kHz\n",
      "integration time:  0.1 s\n"
     ]
    }
   ],
   "source": [
    "print('Naive (correlator internal):')\n",
    "print('data rate: ', rates[0].to(units.Gbyte/units.s))\n",
    "print('channel width: ', corr_chan_width.to(units.kHz))\n",
    "print('integration time: ', corr_integration_time)"
   ]
  },
  {
   "cell_type": "code",
   "execution_count": 11,
   "metadata": {
    "collapsed": false
   },
   "outputs": [
    {
     "name": "stdout",
     "output_type": "stream",
     "text": [
      "post fringe stopping:\n",
      "data rate:  1.2076646400000002 Gbyte / s\n",
      "data volume per season:  6.26053349376 Pbyte\n",
      "channel width:  61.03515625 kHz\n",
      "integration time:  10.0 s\n"
     ]
    }
   ],
   "source": [
    "print('post fringe stopping:')\n",
    "print('data rate: ', rates[1].to(units.Gbyte/units.s))\n",
    "season_data_vol = (rates[1].to(units.Pbyte / units.hour) * obs_hrs_per_day * days_per_season)\n",
    "print('data volume per season: ', season_data_vol)\n",
    "print('channel width: ', corr_chan_width.to(units.kHz))\n",
    "print('integration time: ', corr_post_fringe_stop_int_time)"
   ]
  },
  {
   "cell_type": "code",
   "execution_count": 12,
   "metadata": {
    "collapsed": false
   },
   "outputs": [
    {
     "name": "stdout",
     "output_type": "stream",
     "text": [
      "data volume per day: 52.171112448 Tbyte / d\n"
     ]
    }
   ],
   "source": [
    "daily_data_vol = (rates[1].to(units.Tbyte / units.hour) * obs_hrs_per_day)\n",
    "print('data volume per day:',daily_data_vol)"
   ]
  },
  {
   "cell_type": "code",
   "execution_count": 13,
   "metadata": {
    "collapsed": true
   },
   "outputs": [],
   "source": [
    "bda_factor = 0.1"
   ]
  },
  {
   "cell_type": "code",
   "execution_count": 14,
   "metadata": {
    "collapsed": false
   },
   "outputs": [
    {
     "name": "stdout",
     "output_type": "stream",
     "text": [
      "post BDA data volume per day: 5.217111244800001 Tbyte / d\n",
      "post BDA data volume per season:  0.626053349376 Pbyte\n"
     ]
    }
   ],
   "source": [
    "bda_daily_data_vol = bda_factor * (rates[1].to(units.Tbyte / units.hour) * obs_hrs_per_day)\n",
    "bda_season_data_vol = bda_factor * (rates[1].to(units.Pbyte / units.hour) * obs_hrs_per_day * days_per_season)\n",
    "print('post BDA data volume per day:',bda_daily_data_vol)\n",
    "print('post BDA data volume per season: ', bda_season_data_vol)"
   ]
  },
  {
   "cell_type": "code",
   "execution_count": null,
   "metadata": {
    "collapsed": true
   },
   "outputs": [],
   "source": []
  },
  {
   "cell_type": "code",
   "execution_count": null,
   "metadata": {
    "collapsed": true
   },
   "outputs": [],
   "source": []
  },
  {
   "cell_type": "code",
   "execution_count": null,
   "metadata": {
    "collapsed": true
   },
   "outputs": [],
   "source": []
  }
 ],
 "metadata": {
  "kernelspec": {
   "display_name": "Python 3",
   "language": "python",
   "name": "python3"
  },
  "language_info": {
   "codemirror_mode": {
    "name": "ipython",
    "version": 3
   },
   "file_extension": ".py",
   "mimetype": "text/x-python",
   "name": "python",
   "nbconvert_exporter": "python",
   "pygments_lexer": "ipython3",
   "version": "3.5.2"
  }
 },
 "nbformat": 4,
 "nbformat_minor": 0
}
